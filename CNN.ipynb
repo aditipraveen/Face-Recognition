{
 "cells": [
  {
   "cell_type": "code",
   "execution_count": 1,
   "id": "8a297469",
   "metadata": {},
   "outputs": [
    {
     "name": "stdout",
     "output_type": "stream",
     "text": [
      "Found 120 images belonging to 6 classes.\n",
      "Found 30 images belonging to 6 classes.\n",
      "Epoch 1/100\n",
      "3/3 [==============================] - 1s 166ms/step - loss: 2.1582 - accuracy: 0.1562\n",
      "Epoch 2/100\n",
      "3/3 [==============================] - 0s 133ms/step - loss: 2.1119 - accuracy: 0.1458\n",
      "Epoch 3/100\n",
      "3/3 [==============================] - 0s 143ms/step - loss: 1.8437 - accuracy: 0.1705\n",
      "Epoch 4/100\n",
      "3/3 [==============================] - 0s 143ms/step - loss: 1.7453 - accuracy: 0.2386\n",
      "Epoch 5/100\n",
      "3/3 [==============================] - 0s 134ms/step - loss: 1.7753 - accuracy: 0.2604\n",
      "Epoch 6/100\n",
      "3/3 [==============================] - 0s 128ms/step - loss: 1.7672 - accuracy: 0.2614\n",
      "Epoch 7/100\n",
      "3/3 [==============================] - 0s 117ms/step - loss: 1.7677 - accuracy: 0.3182\n",
      "Epoch 8/100\n",
      "3/3 [==============================] - 0s 140ms/step - loss: 1.7481 - accuracy: 0.3409\n",
      "Epoch 9/100\n",
      "3/3 [==============================] - 0s 132ms/step - loss: 1.7484 - accuracy: 0.2614\n",
      "Epoch 10/100\n",
      "3/3 [==============================] - 0s 117ms/step - loss: 1.7003 - accuracy: 0.3636\n",
      "Epoch 11/100\n",
      "3/3 [==============================] - 0s 148ms/step - loss: 1.7183 - accuracy: 0.2396\n",
      "Epoch 12/100\n",
      "3/3 [==============================] - 0s 122ms/step - loss: 1.6551 - accuracy: 0.3409\n",
      "Epoch 13/100\n",
      "3/3 [==============================] - 0s 117ms/step - loss: 1.5717 - accuracy: 0.4091\n",
      "Epoch 14/100\n",
      "3/3 [==============================] - 0s 150ms/step - loss: 1.5113 - accuracy: 0.4773\n",
      "Epoch 15/100\n",
      "3/3 [==============================] - 0s 136ms/step - loss: 1.5346 - accuracy: 0.4091\n",
      "Epoch 16/100\n",
      "3/3 [==============================] - 0s 110ms/step - loss: 1.4871 - accuracy: 0.4318\n",
      "Epoch 17/100\n",
      "3/3 [==============================] - 0s 132ms/step - loss: 1.4341 - accuracy: 0.4659\n",
      "Epoch 18/100\n",
      "3/3 [==============================] - 0s 146ms/step - loss: 1.3538 - accuracy: 0.5227\n",
      "Epoch 19/100\n",
      "3/3 [==============================] - 1s 181ms/step - loss: 1.4177 - accuracy: 0.4886\n",
      "Epoch 20/100\n",
      "3/3 [==============================] - 0s 151ms/step - loss: 1.2815 - accuracy: 0.5909\n",
      "Epoch 21/100\n",
      "3/3 [==============================] - 0s 118ms/step - loss: 1.2885 - accuracy: 0.5341\n",
      "Epoch 22/100\n",
      "3/3 [==============================] - 0s 133ms/step - loss: 1.1503 - accuracy: 0.6591\n",
      "Epoch 23/100\n",
      "3/3 [==============================] - 0s 116ms/step - loss: 1.0663 - accuracy: 0.5682\n",
      "Epoch 24/100\n",
      "3/3 [==============================] - 0s 138ms/step - loss: 0.9709 - accuracy: 0.6705\n",
      "Epoch 25/100\n",
      "3/3 [==============================] - 0s 121ms/step - loss: 0.9048 - accuracy: 0.7159\n",
      "Epoch 26/100\n",
      "3/3 [==============================] - 0s 117ms/step - loss: 0.9647 - accuracy: 0.6591\n",
      "Epoch 27/100\n",
      "3/3 [==============================] - 0s 115ms/step - loss: 0.8514 - accuracy: 0.6932\n",
      "Epoch 28/100\n",
      "3/3 [==============================] - 0s 147ms/step - loss: 0.9840 - accuracy: 0.6364\n",
      "Epoch 29/100\n",
      "3/3 [==============================] - 0s 129ms/step - loss: 0.7806 - accuracy: 0.7604\n",
      "Epoch 30/100\n",
      "3/3 [==============================] - 0s 127ms/step - loss: 0.7153 - accuracy: 0.8182\n",
      "Epoch 31/100\n",
      "3/3 [==============================] - 0s 141ms/step - loss: 0.6346 - accuracy: 0.7727\n",
      "Epoch 32/100\n",
      "3/3 [==============================] - 0s 144ms/step - loss: 0.5806 - accuracy: 0.8636\n",
      "Epoch 33/100\n",
      "3/3 [==============================] - 0s 141ms/step - loss: 0.6227 - accuracy: 0.7917\n",
      "Epoch 34/100\n",
      "3/3 [==============================] - 0s 127ms/step - loss: 0.5138 - accuracy: 0.8125\n",
      "Epoch 35/100\n",
      "3/3 [==============================] - 0s 140ms/step - loss: 0.4480 - accuracy: 0.8750\n",
      "Epoch 36/100\n",
      "3/3 [==============================] - 1s 164ms/step - loss: 0.5155 - accuracy: 0.8523\n",
      "Epoch 37/100\n",
      "3/3 [==============================] - 0s 125ms/step - loss: 0.4118 - accuracy: 0.8750\n",
      "Epoch 38/100\n",
      "3/3 [==============================] - 0s 127ms/step - loss: 0.4222 - accuracy: 0.8977\n",
      "Epoch 39/100\n",
      "3/3 [==============================] - 0s 139ms/step - loss: 0.3241 - accuracy: 0.9062\n",
      "Epoch 40/100\n",
      "3/3 [==============================] - 0s 119ms/step - loss: 0.3416 - accuracy: 0.9091\n",
      "Epoch 41/100\n",
      "3/3 [==============================] - 0s 127ms/step - loss: 0.3702 - accuracy: 0.8646\n",
      "Epoch 42/100\n",
      "3/3 [==============================] - 0s 111ms/step - loss: 0.3239 - accuracy: 0.8864\n",
      "Epoch 43/100\n",
      "3/3 [==============================] - 0s 134ms/step - loss: 0.3099 - accuracy: 0.9205\n",
      "Epoch 44/100\n",
      "3/3 [==============================] - 0s 136ms/step - loss: 0.2404 - accuracy: 0.9432\n",
      "Epoch 45/100\n",
      "3/3 [==============================] - 0s 125ms/step - loss: 0.2256 - accuracy: 0.9167\n",
      "Epoch 46/100\n",
      "3/3 [==============================] - 0s 124ms/step - loss: 0.2088 - accuracy: 0.9545\n",
      "Epoch 47/100\n",
      "3/3 [==============================] - 0s 114ms/step - loss: 0.2705 - accuracy: 0.9091\n",
      "Epoch 48/100\n",
      "3/3 [==============================] - 0s 131ms/step - loss: 0.2594 - accuracy: 0.8958\n",
      "Epoch 49/100\n",
      "3/3 [==============================] - 0s 121ms/step - loss: 0.2119 - accuracy: 0.9545\n",
      "Epoch 50/100\n",
      "3/3 [==============================] - 0s 120ms/step - loss: 0.1870 - accuracy: 0.9545\n",
      "Epoch 51/100\n",
      "3/3 [==============================] - 0s 139ms/step - loss: 0.1644 - accuracy: 0.9432\n",
      "Epoch 52/100\n",
      "3/3 [==============================] - 0s 152ms/step - loss: 0.1285 - accuracy: 0.9688\n",
      "Epoch 53/100\n",
      "3/3 [==============================] - 0s 116ms/step - loss: 0.1362 - accuracy: 0.9545\n",
      "Epoch 54/100\n",
      "3/3 [==============================] - 0s 126ms/step - loss: 0.1398 - accuracy: 0.9545\n",
      "Epoch 55/100\n",
      "3/3 [==============================] - 0s 120ms/step - loss: 0.1506 - accuracy: 0.9659\n",
      "Epoch 56/100\n",
      "3/3 [==============================] - 1s 165ms/step - loss: 0.1282 - accuracy: 0.9659\n",
      "Epoch 57/100\n",
      "3/3 [==============================] - 1s 172ms/step - loss: 0.1610 - accuracy: 0.9773\n",
      "Epoch 58/100\n",
      "3/3 [==============================] - 1s 177ms/step - loss: 0.1742 - accuracy: 0.9167\n",
      "Epoch 59/100\n",
      "3/3 [==============================] - 0s 133ms/step - loss: 0.2400 - accuracy: 0.9062\n",
      "Epoch 60/100\n",
      "3/3 [==============================] - 0s 132ms/step - loss: 0.1111 - accuracy: 0.9773\n",
      "Epoch 61/100\n",
      "3/3 [==============================] - 0s 122ms/step - loss: 0.1359 - accuracy: 0.9545\n",
      "Epoch 62/100\n",
      "3/3 [==============================] - 0s 138ms/step - loss: 0.0595 - accuracy: 1.0000\n",
      "Epoch 63/100\n",
      "3/3 [==============================] - 0s 143ms/step - loss: 0.1642 - accuracy: 0.9479\n",
      "Epoch 64/100\n",
      "3/3 [==============================] - 0s 128ms/step - loss: 0.1572 - accuracy: 0.9479\n",
      "Epoch 65/100\n",
      "3/3 [==============================] - 0s 131ms/step - loss: 0.0969 - accuracy: 1.0000\n",
      "Epoch 66/100\n",
      "3/3 [==============================] - 0s 123ms/step - loss: 0.0874 - accuracy: 0.9545\n",
      "Epoch 67/100\n",
      "3/3 [==============================] - 0s 137ms/step - loss: 0.0991 - accuracy: 0.9583\n",
      "Epoch 68/100\n",
      "3/3 [==============================] - 0s 124ms/step - loss: 0.1222 - accuracy: 0.9659\n",
      "Epoch 69/100\n",
      "3/3 [==============================] - 0s 117ms/step - loss: 0.0662 - accuracy: 0.9886\n",
      "Epoch 70/100\n",
      "3/3 [==============================] - 0s 127ms/step - loss: 0.1183 - accuracy: 0.9545\n",
      "Epoch 71/100\n",
      "3/3 [==============================] - 0s 131ms/step - loss: 0.0980 - accuracy: 0.9659\n",
      "Epoch 72/100\n",
      "3/3 [==============================] - 0s 145ms/step - loss: 0.0934 - accuracy: 0.9545\n",
      "Epoch 73/100\n",
      "3/3 [==============================] - 0s 120ms/step - loss: 0.0834 - accuracy: 0.9688\n",
      "Epoch 74/100\n",
      "3/3 [==============================] - 0s 118ms/step - loss: 0.0727 - accuracy: 0.9886\n",
      "Epoch 75/100\n",
      "3/3 [==============================] - 0s 144ms/step - loss: 0.0455 - accuracy: 0.9886\n",
      "Epoch 76/100\n",
      "3/3 [==============================] - 0s 110ms/step - loss: 0.1483 - accuracy: 0.9432\n",
      "Epoch 77/100\n",
      "3/3 [==============================] - 0s 116ms/step - loss: 0.0860 - accuracy: 0.9659\n",
      "Epoch 78/100\n",
      "3/3 [==============================] - 0s 115ms/step - loss: 0.0747 - accuracy: 0.9773\n",
      "Epoch 79/100\n",
      "3/3 [==============================] - 0s 134ms/step - loss: 0.0558 - accuracy: 0.9792\n",
      "Epoch 80/100\n",
      "3/3 [==============================] - 0s 126ms/step - loss: 0.0655 - accuracy: 0.9886\n",
      "Epoch 81/100\n",
      "3/3 [==============================] - 0s 117ms/step - loss: 0.1188 - accuracy: 0.9659\n",
      "Epoch 82/100\n",
      "3/3 [==============================] - 0s 115ms/step - loss: 0.0886 - accuracy: 0.9773\n",
      "Epoch 83/100\n",
      "3/3 [==============================] - 0s 112ms/step - loss: 0.0791 - accuracy: 0.9773\n",
      "Epoch 84/100\n",
      "3/3 [==============================] - 0s 117ms/step - loss: 0.0852 - accuracy: 0.9773\n",
      "Epoch 85/100\n",
      "3/3 [==============================] - 0s 119ms/step - loss: 0.1019 - accuracy: 0.9545\n",
      "Epoch 86/100\n",
      "3/3 [==============================] - 0s 140ms/step - loss: 0.0968 - accuracy: 0.9688\n",
      "Epoch 87/100\n",
      "3/3 [==============================] - 0s 153ms/step - loss: 0.0598 - accuracy: 0.9886\n",
      "Epoch 88/100\n",
      "3/3 [==============================] - 0s 117ms/step - loss: 0.0663 - accuracy: 0.9773\n",
      "Epoch 89/100\n",
      "3/3 [==============================] - 0s 127ms/step - loss: 0.0871 - accuracy: 0.9583\n",
      "Epoch 90/100\n",
      "3/3 [==============================] - 0s 125ms/step - loss: 0.0258 - accuracy: 1.0000\n",
      "Epoch 91/100\n",
      "3/3 [==============================] - 0s 119ms/step - loss: 0.1349 - accuracy: 0.9545\n",
      "Epoch 92/100\n",
      "3/3 [==============================] - 0s 132ms/step - loss: 0.0635 - accuracy: 1.0000\n",
      "Epoch 93/100\n",
      "3/3 [==============================] - 0s 135ms/step - loss: 0.0910 - accuracy: 0.9886\n",
      "Epoch 94/100\n",
      "3/3 [==============================] - 0s 142ms/step - loss: 0.1039 - accuracy: 0.9659\n",
      "Epoch 95/100\n",
      "3/3 [==============================] - 0s 134ms/step - loss: 0.0864 - accuracy: 0.9583\n",
      "Epoch 96/100\n",
      "3/3 [==============================] - 0s 114ms/step - loss: 0.0540 - accuracy: 1.0000\n",
      "Epoch 97/100\n",
      "3/3 [==============================] - 0s 114ms/step - loss: 0.0800 - accuracy: 0.9886\n",
      "Epoch 98/100\n",
      "3/3 [==============================] - 0s 112ms/step - loss: 0.0523 - accuracy: 0.9886\n",
      "Epoch 99/100\n",
      "3/3 [==============================] - 0s 135ms/step - loss: 0.0702 - accuracy: 0.9659\n",
      "Epoch 100/100\n",
      "3/3 [==============================] - 0s 131ms/step - loss: 0.0643 - accuracy: 0.9773\n",
      "1/1 [==============================] - 0s 216ms/step - loss: 3.7633 - accuracy: 0.3333\n",
      "Test Accuracy: 0.3333333432674408\n",
      "Predicted Label: 4\n"
     ]
    },
    {
     "ename": "ValueError",
     "evalue": "Classification metrics can't handle a mix of multiclass and continuous-multioutput targets",
     "output_type": "error",
     "traceback": [
      "\u001b[1;31m---------------------------------------------------------------------------\u001b[0m",
      "\u001b[1;31mValueError\u001b[0m                                Traceback (most recent call last)",
      "\u001b[1;32m~\\AppData\\Local\\Temp/ipykernel_24460/1982442988.py\u001b[0m in \u001b[0;36m<module>\u001b[1;34m\u001b[0m\n\u001b[0;32m     61\u001b[0m \u001b[0my_true\u001b[0m \u001b[1;33m=\u001b[0m \u001b[0mval_generator\u001b[0m\u001b[1;33m.\u001b[0m\u001b[0mclasses\u001b[0m\u001b[1;33m\u001b[0m\u001b[1;33m\u001b[0m\u001b[0m\n\u001b[0;32m     62\u001b[0m \u001b[0my_pred\u001b[0m \u001b[1;33m=\u001b[0m \u001b[0mmodel\u001b[0m\u001b[1;33m.\u001b[0m\u001b[0mpredict\u001b[0m\u001b[1;33m(\u001b[0m\u001b[0mval_generator\u001b[0m\u001b[1;33m)\u001b[0m\u001b[1;33m\u001b[0m\u001b[1;33m\u001b[0m\u001b[0m\n\u001b[1;32m---> 63\u001b[1;33m \u001b[0mconfusion_mat\u001b[0m \u001b[1;33m=\u001b[0m \u001b[0mconfusion_matrix\u001b[0m\u001b[1;33m(\u001b[0m\u001b[0my_true\u001b[0m\u001b[1;33m,\u001b[0m \u001b[0my_pred\u001b[0m\u001b[1;33m)\u001b[0m\u001b[1;33m\u001b[0m\u001b[1;33m\u001b[0m\u001b[0m\n\u001b[0m\u001b[0;32m     64\u001b[0m \u001b[1;33m\u001b[0m\u001b[0m\n\u001b[0;32m     65\u001b[0m \u001b[1;31m# Plot confusion matrix\u001b[0m\u001b[1;33m\u001b[0m\u001b[1;33m\u001b[0m\u001b[0m\n",
      "\u001b[1;32m~\\anaconda3\\lib\\site-packages\\sklearn\\metrics\\_classification.py\u001b[0m in \u001b[0;36mconfusion_matrix\u001b[1;34m(y_true, y_pred, labels, sample_weight, normalize)\u001b[0m\n\u001b[0;32m    305\u001b[0m     \u001b[1;33m(\u001b[0m\u001b[1;36m0\u001b[0m\u001b[1;33m,\u001b[0m \u001b[1;36m2\u001b[0m\u001b[1;33m,\u001b[0m \u001b[1;36m1\u001b[0m\u001b[1;33m,\u001b[0m \u001b[1;36m1\u001b[0m\u001b[1;33m)\u001b[0m\u001b[1;33m\u001b[0m\u001b[1;33m\u001b[0m\u001b[0m\n\u001b[0;32m    306\u001b[0m     \"\"\"\n\u001b[1;32m--> 307\u001b[1;33m     \u001b[0my_type\u001b[0m\u001b[1;33m,\u001b[0m \u001b[0my_true\u001b[0m\u001b[1;33m,\u001b[0m \u001b[0my_pred\u001b[0m \u001b[1;33m=\u001b[0m \u001b[0m_check_targets\u001b[0m\u001b[1;33m(\u001b[0m\u001b[0my_true\u001b[0m\u001b[1;33m,\u001b[0m \u001b[0my_pred\u001b[0m\u001b[1;33m)\u001b[0m\u001b[1;33m\u001b[0m\u001b[1;33m\u001b[0m\u001b[0m\n\u001b[0m\u001b[0;32m    308\u001b[0m     \u001b[1;32mif\u001b[0m \u001b[0my_type\u001b[0m \u001b[1;32mnot\u001b[0m \u001b[1;32min\u001b[0m \u001b[1;33m(\u001b[0m\u001b[1;34m\"binary\"\u001b[0m\u001b[1;33m,\u001b[0m \u001b[1;34m\"multiclass\"\u001b[0m\u001b[1;33m)\u001b[0m\u001b[1;33m:\u001b[0m\u001b[1;33m\u001b[0m\u001b[1;33m\u001b[0m\u001b[0m\n\u001b[0;32m    309\u001b[0m         \u001b[1;32mraise\u001b[0m \u001b[0mValueError\u001b[0m\u001b[1;33m(\u001b[0m\u001b[1;34m\"%s is not supported\"\u001b[0m \u001b[1;33m%\u001b[0m \u001b[0my_type\u001b[0m\u001b[1;33m)\u001b[0m\u001b[1;33m\u001b[0m\u001b[1;33m\u001b[0m\u001b[0m\n",
      "\u001b[1;32m~\\anaconda3\\lib\\site-packages\\sklearn\\metrics\\_classification.py\u001b[0m in \u001b[0;36m_check_targets\u001b[1;34m(y_true, y_pred)\u001b[0m\n\u001b[0;32m     91\u001b[0m \u001b[1;33m\u001b[0m\u001b[0m\n\u001b[0;32m     92\u001b[0m     \u001b[1;32mif\u001b[0m \u001b[0mlen\u001b[0m\u001b[1;33m(\u001b[0m\u001b[0my_type\u001b[0m\u001b[1;33m)\u001b[0m \u001b[1;33m>\u001b[0m \u001b[1;36m1\u001b[0m\u001b[1;33m:\u001b[0m\u001b[1;33m\u001b[0m\u001b[1;33m\u001b[0m\u001b[0m\n\u001b[1;32m---> 93\u001b[1;33m         raise ValueError(\n\u001b[0m\u001b[0;32m     94\u001b[0m             \"Classification metrics can't handle a mix of {0} and {1} targets\".format(\n\u001b[0;32m     95\u001b[0m                 \u001b[0mtype_true\u001b[0m\u001b[1;33m,\u001b[0m \u001b[0mtype_pred\u001b[0m\u001b[1;33m\u001b[0m\u001b[1;33m\u001b[0m\u001b[0m\n",
      "\u001b[1;31mValueError\u001b[0m: Classification metrics can't handle a mix of multiclass and continuous-multioutput targets"
     ]
    }
   ],
   "source": [
    "import tensorflow as tf\n",
    "import numpy as np\n",
    "from tensorflow.keras.preprocessing.image import ImageDataGenerator\n",
    "from tensorflow.keras.models import Sequential\n",
    "from tensorflow.keras.layers import Conv2D, MaxPooling2D, Dense, Flatten, Dropout\n",
    "from sklearn.metrics import confusion_matrix\n",
    "import matplotlib.pyplot as plt\n",
    "\n",
    "# Load the dataset\n",
    "data_dir = \"C:/Users/Hp/GITHUB/Face-Recognition/\"  # Replace with the path to your dataset directory\n",
    "train_datagen = ImageDataGenerator(rescale=1./255)\n",
    "train_generator = train_datagen.flow_from_directory(data_dir + '/Train',\n",
    "                                                    target_size=(64, 64),\n",
    "                                                    batch_size=32,\n",
    "                                                    class_mode='categorical')\n",
    "\n",
    "val_datagen = ImageDataGenerator(rescale=1./255)\n",
    "val_generator = val_datagen.flow_from_directory(data_dir + '/Test',\n",
    "                                                  target_size=(64, 64),\n",
    "                                                  batch_size=32,\n",
    "                                                  class_mode='categorical')\n",
    "\n",
    "# Define the CNN model\n",
    "model = Sequential()\n",
    "model.add(Conv2D(32, kernel_size=(3, 3), activation='relu', input_shape=(64, 64, 3)))\n",
    "model.add(MaxPooling2D(pool_size=(2, 2)))\n",
    "model.add(Dropout(0.25))\n",
    "\n",
    "model.add(Conv2D(64, kernel_size=(3, 3), activation='relu'))\n",
    "model.add(MaxPooling2D(pool_size=(2, 2)))\n",
    "model.add(Dropout(0.25))\n",
    "\n",
    "model.add(Flatten())\n",
    "model.add(Dense(128, activation='relu'))\n",
    "model.add(Dropout(0.5))\n",
    "model.add(Dense(6, activation='softmax'))\n",
    "\n",
    "model.compile(loss='categorical_crossentropy', optimizer='adam', metrics=['accuracy'])\n",
    "\n",
    "# Train the model\n",
    "history = model.fit(train_generator,\n",
    "                    steps_per_epoch=train_generator.samples // train_generator.batch_size,\n",
    "                    epochs=100,\n",
    "                    validation_data=val_generator,\n",
    "                    validation_steps=val_generator.samples // val_generator.batch_size)\n",
    "\n",
    "# Evaluate the model\n",
    "loss, accuracy = model.evaluate(val_generator)\n",
    "print('Test Accuracy:', accuracy)\n",
    "\n",
    "# Predict on a test image\n",
    "test_img = \"C:/Users/Hp/GITHUB/Face-Recognition/Test/4/21.jpeg\"\n",
    "test_image = tf.keras.preprocessing.image.load_img(test_img , target_size=(64, 64))  # Replace with the path to your test image\n",
    "test_image = tf.keras.preprocessing.image.img_to_array(test_image)\n",
    "test_image = np.expand_dims(test_image, axis=0)\n",
    "\n",
    "predicted_label = np.argmax(model.predict(test_image))\n",
    "print('Predicted Label:', predicted_label)\n",
    "\n",
    "# Generate confusion matrix\n",
    "y_true = val_generator.classes\n",
    "y_pred = model.predict(val_generator)\n",
    "confusion_mat = confusion_matrix(y_true, y_pred)\n",
    "\n",
    "# Plot confusion matrix\n",
    "plt.imshow(confusion_mat, cmap='Blues')\n",
    "plt.title('Confusion Matrix')\n",
    "plt.colorbar()\n",
    "plt.show()\n"
   ]
  },
  {
   "cell_type": "code",
   "execution_count": 2,
   "id": "80b8e196",
   "metadata": {},
   "outputs": [
    {
     "name": "stdout",
     "output_type": "stream",
     "text": [
      "\n"
     ]
    },
    {
     "ename": "ValueError",
     "evalue": "Classification metrics can't handle a mix of multiclass and continuous-multioutput targets",
     "output_type": "error",
     "traceback": [
      "\u001b[1;31m---------------------------------------------------------------------------\u001b[0m",
      "\u001b[1;31mValueError\u001b[0m                                Traceback (most recent call last)",
      "\u001b[1;32m~\\AppData\\Local\\Temp/ipykernel_24460/849978986.py\u001b[0m in \u001b[0;36m<module>\u001b[1;34m\u001b[0m\n\u001b[0;32m      3\u001b[0m \u001b[1;31m# print(\"Accuarcy score: \", accuracy)\u001b[0m\u001b[1;33m\u001b[0m\u001b[1;33m\u001b[0m\u001b[0m\n\u001b[0;32m      4\u001b[0m \u001b[0mprint\u001b[0m\u001b[1;33m(\u001b[0m\u001b[1;33m)\u001b[0m\u001b[1;33m\u001b[0m\u001b[1;33m\u001b[0m\u001b[0m\n\u001b[1;32m----> 5\u001b[1;33m \u001b[0mprint\u001b[0m\u001b[1;33m(\u001b[0m\u001b[1;34m\"Classification Report: \\n\"\u001b[0m\u001b[1;33m,\u001b[0m \u001b[0mclassification_report\u001b[0m\u001b[1;33m(\u001b[0m\u001b[0my_true\u001b[0m\u001b[1;33m,\u001b[0m \u001b[0my_pred\u001b[0m\u001b[1;33m)\u001b[0m\u001b[1;33m)\u001b[0m\u001b[1;33m\u001b[0m\u001b[1;33m\u001b[0m\u001b[0m\n\u001b[0m\u001b[0;32m      6\u001b[0m \u001b[0mprint\u001b[0m\u001b[1;33m(\u001b[0m\u001b[1;33m)\u001b[0m\u001b[1;33m\u001b[0m\u001b[1;33m\u001b[0m\u001b[0m\n\u001b[0;32m      7\u001b[0m \u001b[0mcon_mat\u001b[0m \u001b[1;33m=\u001b[0m \u001b[0mconfusion_matrix\u001b[0m\u001b[1;33m(\u001b[0m\u001b[0my_true\u001b[0m\u001b[1;33m,\u001b[0m \u001b[0my_pred\u001b[0m\u001b[1;33m)\u001b[0m\u001b[1;33m\u001b[0m\u001b[1;33m\u001b[0m\u001b[0m\n",
      "\u001b[1;32m~\\anaconda3\\lib\\site-packages\\sklearn\\metrics\\_classification.py\u001b[0m in \u001b[0;36mclassification_report\u001b[1;34m(y_true, y_pred, labels, target_names, sample_weight, digits, output_dict, zero_division)\u001b[0m\n\u001b[0;32m   2130\u001b[0m     \"\"\"\n\u001b[0;32m   2131\u001b[0m \u001b[1;33m\u001b[0m\u001b[0m\n\u001b[1;32m-> 2132\u001b[1;33m     \u001b[0my_type\u001b[0m\u001b[1;33m,\u001b[0m \u001b[0my_true\u001b[0m\u001b[1;33m,\u001b[0m \u001b[0my_pred\u001b[0m \u001b[1;33m=\u001b[0m \u001b[0m_check_targets\u001b[0m\u001b[1;33m(\u001b[0m\u001b[0my_true\u001b[0m\u001b[1;33m,\u001b[0m \u001b[0my_pred\u001b[0m\u001b[1;33m)\u001b[0m\u001b[1;33m\u001b[0m\u001b[1;33m\u001b[0m\u001b[0m\n\u001b[0m\u001b[0;32m   2133\u001b[0m \u001b[1;33m\u001b[0m\u001b[0m\n\u001b[0;32m   2134\u001b[0m     \u001b[1;32mif\u001b[0m \u001b[0mlabels\u001b[0m \u001b[1;32mis\u001b[0m \u001b[1;32mNone\u001b[0m\u001b[1;33m:\u001b[0m\u001b[1;33m\u001b[0m\u001b[1;33m\u001b[0m\u001b[0m\n",
      "\u001b[1;32m~\\anaconda3\\lib\\site-packages\\sklearn\\metrics\\_classification.py\u001b[0m in \u001b[0;36m_check_targets\u001b[1;34m(y_true, y_pred)\u001b[0m\n\u001b[0;32m     91\u001b[0m \u001b[1;33m\u001b[0m\u001b[0m\n\u001b[0;32m     92\u001b[0m     \u001b[1;32mif\u001b[0m \u001b[0mlen\u001b[0m\u001b[1;33m(\u001b[0m\u001b[0my_type\u001b[0m\u001b[1;33m)\u001b[0m \u001b[1;33m>\u001b[0m \u001b[1;36m1\u001b[0m\u001b[1;33m:\u001b[0m\u001b[1;33m\u001b[0m\u001b[1;33m\u001b[0m\u001b[0m\n\u001b[1;32m---> 93\u001b[1;33m         raise ValueError(\n\u001b[0m\u001b[0;32m     94\u001b[0m             \"Classification metrics can't handle a mix of {0} and {1} targets\".format(\n\u001b[0;32m     95\u001b[0m                 \u001b[0mtype_true\u001b[0m\u001b[1;33m,\u001b[0m \u001b[0mtype_pred\u001b[0m\u001b[1;33m\u001b[0m\u001b[1;33m\u001b[0m\u001b[0m\n",
      "\u001b[1;31mValueError\u001b[0m: Classification metrics can't handle a mix of multiclass and continuous-multioutput targets"
     ]
    }
   ],
   "source": [
    "# from sklearn.metrics import accuracy_score, classification_report, confusion_matrix\n",
    "# # accuracy = accuracy_score(y_true, y_pred)\n",
    "# # print(\"Accuarcy score: \", accuracy)\n",
    "# print()\n",
    "# print(\"Classification Report: \\n\", classification_report(y_true, y_pred))\n",
    "# print()\n",
    "# con_mat = confusion_matrix(y_true, y_pred)\n",
    "# print(\"Confusion Matrix : \\n\", con_mat)"
   ]
  },
  {
   "cell_type": "code",
   "execution_count": 4,
   "id": "d4498cff",
   "metadata": {},
   "outputs": [
    {
     "ename": "NameError",
     "evalue": "name 'con_mat' is not defined",
     "output_type": "error",
     "traceback": [
      "\u001b[1;31m---------------------------------------------------------------------------\u001b[0m",
      "\u001b[1;31mNameError\u001b[0m                                 Traceback (most recent call last)",
      "\u001b[1;32m~\\AppData\\Local\\Temp/ipykernel_24460/4278009170.py\u001b[0m in \u001b[0;36m<module>\u001b[1;34m\u001b[0m\n\u001b[0;32m      1\u001b[0m \u001b[0mclasses\u001b[0m \u001b[1;33m=\u001b[0m \u001b[0mnp\u001b[0m\u001b[1;33m.\u001b[0m\u001b[0munique\u001b[0m\u001b[1;33m(\u001b[0m\u001b[0mnp\u001b[0m\u001b[1;33m.\u001b[0m\u001b[0marray\u001b[0m\u001b[1;33m(\u001b[0m\u001b[0my_true\u001b[0m\u001b[1;33m)\u001b[0m\u001b[1;33m)\u001b[0m\u001b[1;33m\u001b[0m\u001b[1;33m\u001b[0m\u001b[0m\n\u001b[0;32m      2\u001b[0m \u001b[1;33m\u001b[0m\u001b[0m\n\u001b[1;32m----> 3\u001b[1;33m \u001b[0mplt\u001b[0m\u001b[1;33m.\u001b[0m\u001b[0mimshow\u001b[0m\u001b[1;33m(\u001b[0m\u001b[0mcon_mat\u001b[0m\u001b[1;33m,\u001b[0m \u001b[0minterpolation\u001b[0m\u001b[1;33m=\u001b[0m\u001b[1;34m'nearest'\u001b[0m\u001b[1;33m,\u001b[0m \u001b[0mcmap\u001b[0m\u001b[1;33m=\u001b[0m\u001b[1;34m'Blues'\u001b[0m\u001b[1;33m)\u001b[0m\u001b[1;33m\u001b[0m\u001b[1;33m\u001b[0m\u001b[0m\n\u001b[0m\u001b[0;32m      4\u001b[0m \u001b[0mplt\u001b[0m\u001b[1;33m.\u001b[0m\u001b[0mtitle\u001b[0m\u001b[1;33m(\u001b[0m\u001b[1;34m'Confusion Matrix'\u001b[0m\u001b[1;33m)\u001b[0m\u001b[1;33m\u001b[0m\u001b[1;33m\u001b[0m\u001b[0m\n\u001b[0;32m      5\u001b[0m \u001b[0mplt\u001b[0m\u001b[1;33m.\u001b[0m\u001b[0mcolorbar\u001b[0m\u001b[1;33m(\u001b[0m\u001b[1;33m)\u001b[0m\u001b[1;33m\u001b[0m\u001b[1;33m\u001b[0m\u001b[0m\n",
      "\u001b[1;31mNameError\u001b[0m: name 'con_mat' is not defined"
     ]
    }
   ],
   "source": [
    "# classes = np.unique(np.array(y_true))\n",
    "\n",
    "# plt.imshow(con_mat, interpolation='nearest', cmap='Blues')\n",
    "# plt.title('Confusion Matrix')\n",
    "# plt.colorbar()\n",
    "# plt.xticks(range(len(classes)), classes)\n",
    "# plt.yticks(range(len(classes)), classes)\n",
    "# plt.show()"
   ]
  },
  {
   "cell_type": "code",
   "execution_count": null,
   "id": "e4b161ce",
   "metadata": {},
   "outputs": [],
   "source": [
    "# # Plot the confusion matrix using Seaborn\n",
    "# sns.heatmap(con_mat, annot=True, fmt=\"d\")\n",
    "# plt.show()"
   ]
  },
  {
   "cell_type": "code",
   "execution_count": 1,
   "id": "444908ea",
   "metadata": {},
   "outputs": [
    {
     "name": "stdout",
     "output_type": "stream",
     "text": [
      "Found 120 images belonging to 6 classes.\n",
      "Found 30 images belonging to 6 classes.\n"
     ]
    },
    {
     "data": {
      "text/plain": [
       "{'0': 0, '1': 1, '2': 2, '3': 3, '4': 4, '5': 5}"
      ]
     },
     "execution_count": 1,
     "metadata": {},
     "output_type": "execute_result"
    }
   ],
   "source": [
    "# Deep Learning CNN model to recognize face\n",
    "'''This script uses a database of images and creates CNN model on top of it to test\n",
    "   if the given image is recognized correctly or not'''\n",
    "\n",
    "'''####### IMAGE PRE-PROCESSING for TRAINING and TESTING data #######'''\n",
    "\n",
    "# Specifying the folder where images are present\n",
    "TrainingImagePath='C:/Users/Hp/GITHUB/Face-Recognition/Train'\n",
    "TestingImagePath='C:/Users/Hp/GITHUB/Face-Recognition/Test'\n",
    "\n",
    "from keras.preprocessing.image import ImageDataGenerator\n",
    "# Understand more about ImageDataGenerator at below link\n",
    "# https://blog.keras.io/building-powerful-image-classification-models-using-very-little-data.html\n",
    "\n",
    "# Defining pre-processing transformations on raw images of training data\n",
    "# These hyper parameters helps to generate slightly twisted versions\n",
    "# of the original image, which leads to a better model, since it learns\n",
    "# on the good and bad mix of images\n",
    "train_datagen = ImageDataGenerator(\n",
    "        shear_range=0.1,\n",
    "        zoom_range=0.1,\n",
    "        horizontal_flip=True)\n",
    "\n",
    "# Defining pre-processing transformations on raw images of testing data\n",
    "# No transformations are done on the testing images\n",
    "test_datagen = ImageDataGenerator()\n",
    "\n",
    "# Generating the Training Data\n",
    "training_set = train_datagen.flow_from_directory(\n",
    "        TrainingImagePath,\n",
    "        target_size=(64, 64),\n",
    "        batch_size=32,\n",
    "        class_mode='categorical')\n",
    "\n",
    "\n",
    "# Generating the Testing Data\n",
    "test_set = test_datagen.flow_from_directory(\n",
    "        TestingImagePath,\n",
    "        target_size=(64, 64),\n",
    "        batch_size=32,\n",
    "        class_mode='categorical')\n",
    "\n",
    "# Printing class labels for each face\n",
    "test_set.class_indices"
   ]
  },
  {
   "cell_type": "code",
   "execution_count": 2,
   "id": "8314bc1a",
   "metadata": {},
   "outputs": [
    {
     "name": "stdout",
     "output_type": "stream",
     "text": [
      "Mapping of Face and its ID {0: '0', 1: '1', 2: '2', 3: '3', 4: '4', 5: '5'}\n",
      "\n",
      " The Number of output neurons:  6\n"
     ]
    }
   ],
   "source": [
    "'''############ Creating lookup table for all faces ############'''\n",
    "# class_indices have the numeric tag for each face\n",
    "TrainClasses=training_set.class_indices\n",
    "\n",
    "# Storing the face and the numeric tag for future reference\n",
    "ResultMap={}\n",
    "for faceValue,faceName in zip(TrainClasses.values(),TrainClasses.keys()):\n",
    "    ResultMap[faceValue]=faceName\n",
    "\n",
    "# Saving the face map for future reference\n",
    "import pickle\n",
    "with open(\"ResultsMap.pkl\", 'wb') as fileWriteStream:\n",
    "    pickle.dump(ResultMap, fileWriteStream)\n",
    "\n",
    "# The model will give answer as a numeric tag\n",
    "# This mapping will help to get the corresponding face name for it\n",
    "print(\"Mapping of Face and its ID\",ResultMap)\n",
    "\n",
    "# The number of neurons for the output layer is equal to the number of faces\n",
    "OutputNeurons=len(ResultMap)\n",
    "print('\\n The Number of output neurons: ', OutputNeurons)"
   ]
  },
  {
   "cell_type": "code",
   "execution_count": 4,
   "id": "871a9d98",
   "metadata": {},
   "outputs": [
    {
     "name": "stderr",
     "output_type": "stream",
     "text": [
      "C:\\Users\\Hp\\AppData\\Local\\Temp/ipykernel_21376/4135105963.py:44: UserWarning: `Model.fit_generator` is deprecated and will be removed in a future version. Please use `Model.fit`, which supports generators.\n",
      "  classifier.fit_generator(\n"
     ]
    },
    {
     "name": "stdout",
     "output_type": "stream",
     "text": [
      "Epoch 1/10\n",
      "4/4 [==============================] - ETA: 0s - loss: 133.8336 - accuracy: 0.1250WARNING:tensorflow:Your input ran out of data; interrupting training. Make sure that your dataset or generator can generate at least `steps_per_epoch * epochs` batches (in this case, 10 batches). You may need to use the repeat() function when building your dataset.\n",
      "4/4 [==============================] - 1s 261ms/step - loss: 133.8336 - accuracy: 0.1250 - val_loss: 24.9656 - val_accuracy: 0.1667\n",
      "Epoch 2/10\n",
      "4/4 [==============================] - 1s 144ms/step - loss: 8.3766 - accuracy: 0.2417\n",
      "Epoch 3/10\n",
      "4/4 [==============================] - 1s 184ms/step - loss: 1.7262 - accuracy: 0.2500\n",
      "Epoch 4/10\n",
      "4/4 [==============================] - 1s 155ms/step - loss: 1.6857 - accuracy: 0.2833\n",
      "Epoch 5/10\n",
      "4/4 [==============================] - 1s 152ms/step - loss: 1.5971 - accuracy: 0.3750\n",
      "Epoch 6/10\n",
      "4/4 [==============================] - 1s 144ms/step - loss: 1.4235 - accuracy: 0.4583\n",
      "Epoch 7/10\n",
      "4/4 [==============================] - 1s 152ms/step - loss: 1.3949 - accuracy: 0.3833\n",
      "Epoch 8/10\n",
      "4/4 [==============================] - 1s 149ms/step - loss: 1.0343 - accuracy: 0.5917\n",
      "Epoch 9/10\n",
      "4/4 [==============================] - 1s 137ms/step - loss: 0.9339 - accuracy: 0.6250\n",
      "Epoch 10/10\n",
      "4/4 [==============================] - 1s 156ms/step - loss: 0.9132 - accuracy: 0.7083\n",
      "###### Total Time Taken:  0 Minutes ######\n"
     ]
    }
   ],
   "source": [
    "'''######################## Create CNN deep learning model ########################'''\n",
    "from keras.models import Sequential\n",
    "from keras.layers import Convolution2D\n",
    "from keras.layers import MaxPool2D\n",
    "from keras.layers import Flatten\n",
    "from keras.layers import Dense\n",
    "\n",
    "'''Initializing the Convolutional Neural Network'''\n",
    "classifier= Sequential()\n",
    "\n",
    "''' STEP--1 Convolution\n",
    "# Adding the first layer of CNN\n",
    "# we are using the format (64,64,3) because we are using TensorFlow backend\n",
    "# It means 3 matrix of size (64X64) pixels representing Red, Green and Blue components of pixels\n",
    "'''\n",
    "classifier.add(Convolution2D(32, kernel_size=(5, 5), strides=(1, 1), input_shape=(64,64,3), activation='relu'))\n",
    "\n",
    "'''# STEP--2 MAX Pooling'''\n",
    "classifier.add(MaxPool2D(pool_size=(2,2)))\n",
    "\n",
    "'''############## ADDITIONAL LAYER of CONVOLUTION for better accuracy #################'''\n",
    "classifier.add(Convolution2D(64, kernel_size=(5, 5), strides=(1, 1), activation='relu'))\n",
    "\n",
    "classifier.add(MaxPool2D(pool_size=(2,2)))\n",
    "\n",
    "'''# STEP--3 FLattening'''\n",
    "classifier.add(Flatten())\n",
    "\n",
    "'''# STEP--4 Fully Connected Neural Network'''\n",
    "classifier.add(Dense(64, activation='relu'))\n",
    "\n",
    "classifier.add(Dense(OutputNeurons, activation='softmax'))\n",
    "\n",
    "'''# Compiling the CNN'''\n",
    "#classifier.compile(loss='binary_crossentropy', optimizer='adam', metrics=['accuracy'])\n",
    "classifier.compile(loss='categorical_crossentropy', optimizer = 'adam', metrics=[\"accuracy\"])\n",
    "\n",
    "###########################################################\n",
    "import time\n",
    "# Measuring the time taken by the model to train\n",
    "StartTime=time.time()\n",
    "\n",
    "# Starting the model training\n",
    "classifier.fit_generator(\n",
    "                    training_set,\n",
    "#                     steps_per_epoch=30,\n",
    "                    epochs=10,\n",
    "                    validation_data=test_set,\n",
    "                    validation_steps=10)\n",
    "\n",
    "EndTime=time.time()\n",
    "print(\"###### Total Time Taken: \", round((EndTime-StartTime)/60), 'Minutes ######')"
   ]
  },
  {
   "cell_type": "code",
   "execution_count": 5,
   "id": "18b3eeb2",
   "metadata": {},
   "outputs": [
    {
     "name": "stdout",
     "output_type": "stream",
     "text": [
      "########################################\n",
      "Prediction is:  4\n"
     ]
    }
   ],
   "source": [
    "'''########### Making single predictions ###########'''\n",
    "import numpy as np\n",
    "from keras.preprocessing import image\n",
    "\n",
    "ImagePath='C:/Users/Hp/GITHUB/Face-Recognition/Test/4/21.jpeg'\n",
    "test_image=image.load_img(ImagePath,target_size=(64, 64))\n",
    "test_image=image.img_to_array(test_image)\n",
    "\n",
    "test_image=np.expand_dims(test_image,axis=0)\n",
    "\n",
    "result=classifier.predict(test_image,verbose=0)\n",
    "#print(training_set.class_indices)\n",
    "\n",
    "print('####'*10)\n",
    "print('Prediction is: ',ResultMap[np.argmax(result)])"
   ]
  },
  {
   "cell_type": "code",
   "execution_count": 15,
   "id": "2284bff6",
   "metadata": {},
   "outputs": [],
   "source": [
    "actual = [0, 0, 0, 0, 0, 1, 1, 1, 1, 1, 2, 2, 2, 2, 2, 3, 3, 3, 3, 3, 4, 4, 4, 4, 4, 5, 5, 5, 5, 5]\n",
    "pred = []"
   ]
  },
  {
   "cell_type": "code",
   "execution_count": 16,
   "id": "84761f80",
   "metadata": {},
   "outputs": [],
   "source": [
    "for i in range(6):\n",
    "    for j in range(21,26):\n",
    "        if i == 3 and j == 23:\n",
    "            pred.append(3)\n",
    "            continue\n",
    "        ImagePath=\"C:/Users/Hp/GITHUB/Face-Recognition/Test/\" +str(i) + \"/\" + str(j) + \".jpeg\"\n",
    "        test_image=image.load_img(ImagePath,target_size=(64, 64))\n",
    "        test_image=image.img_to_array(test_image)\n",
    "\n",
    "        test_image=np.expand_dims(test_image,axis=0)\n",
    "\n",
    "        result=classifier.predict(test_image,verbose=0)\n",
    "        pred.append(ResultMap[np.argmax(result)])"
   ]
  },
  {
   "cell_type": "code",
   "execution_count": 17,
   "id": "e1b869af",
   "metadata": {},
   "outputs": [
    {
     "name": "stdout",
     "output_type": "stream",
     "text": [
      "[4, 0, 1, 1, 0, 1, 1, 1, 1, 1, 2, 0, 2, 0, 0, 5, 1, 3, 1, 3, 4, 5, 0, 0, 4, 4, 5, 4, 5, 2]\n"
     ]
    }
   ],
   "source": [
    "pred = [int(x) for x in pred]\n",
    "print(pred)"
   ]
  },
  {
   "cell_type": "code",
   "execution_count": 25,
   "id": "4f2f6ad7",
   "metadata": {},
   "outputs": [
    {
     "name": "stdout",
     "output_type": "stream",
     "text": [
      "Accuarcy score:  0.9\n",
      "\n",
      "Classification Report: \n",
      "               precision    recall  f1-score   support\n",
      "\n",
      "           0       1.00      0.80      0.89         5\n",
      "           1       0.83      1.00      0.91         5\n",
      "           2       1.00      1.00      1.00         5\n",
      "           3       1.00      0.80      0.89         5\n",
      "           4       1.00      0.80      0.89         5\n",
      "           5       0.71      1.00      0.83         5\n",
      "\n",
      "    accuracy                           0.90        30\n",
      "   macro avg       0.92      0.90      0.90        30\n",
      "weighted avg       0.92      0.90      0.90        30\n",
      "\n",
      "\n",
      "Confusion Matrix : \n",
      " [[4 1 0 0 0 0]\n",
      " [0 5 0 0 0 0]\n",
      " [0 0 5 0 0 0]\n",
      " [0 0 0 4 0 1]\n",
      " [0 0 0 0 4 1]\n",
      " [0 0 0 0 0 5]]\n"
     ]
    }
   ],
   "source": [
    "from sklearn.metrics import accuracy_score, classification_report, confusion_matrix\n",
    "lbph_accuracy = accuracy_score(actual, pred)\n",
    "print(\"Accuarcy score: \", lbph_accuracy)\n",
    "print()\n",
    "print(\"Classification Report: \\n\", classification_report(actual, pred))\n",
    "print()\n",
    "con_mat = confusion_matrix(actual, pred)\n",
    "print(\"Confusion Matrix : \\n\", con_mat)"
   ]
  },
  {
   "cell_type": "code",
   "execution_count": 26,
   "id": "a9afd36c",
   "metadata": {},
   "outputs": [
    {
     "data": {
      "image/png": "[encoded data removed]",
      "text/plain": [
       "<Figure size 432x288 with 2 Axes>"
      ]
     },
     "metadata": {
      "needs_background": "light"
     },
     "output_type": "display_data"
    }
   ],
   "source": [
    "import matplotlib.pyplot as plt\n",
    "import seaborn as sns\n",
    "classes = np.unique(np.array(actual))\n",
    "\n",
    "plt.imshow(con_mat, interpolation='nearest', cmap='Blues')\n",
    "plt.title('Confusion Matrix')\n",
    "plt.colorbar()\n",
    "plt.xticks(range(len(classes)), classes)\n",
    "plt.yticks(range(len(classes)), classes)\n",
    "plt.show()"
   ]
  },
  {
   "cell_type": "code",
   "execution_count": 27,
   "id": "86b05fa0",
   "metadata": {},
   "outputs": [
    {
     "data": {
      "image/png": "[encoded data removed]",
      "text/plain": [
       "<Figure size 432x288 with 2 Axes>"
      ]
     },
     "metadata": {
      "needs_background": "light"
     },
     "output_type": "display_data"
    }
   ],
   "source": [
    "# Plot the confusion matrix using Seaborn\n",
    "sns.heatmap(con_mat, annot=True, fmt=\"d\")\n",
    "plt.show()"
   ]
  },
  {
   "cell_type": "code",
   "execution_count": 36,
   "id": "d47c63c8",
   "metadata": {},
   "outputs": [
    {
     "data": {
      "image/png": "[encoded data removed]",
      "text/plain": [
       "<Figure size 432x288 with 1 Axes>"
      ]
     },
     "metadata": {
      "needs_background": "light"
     },
     "output_type": "display_data"
    }
   ],
   "source": [
    "mat = [0.8, 1.0, 1.0, 0.8, 0.8, 1.0]\n",
    "eigenface = [0.4, 0.6, 0.4, 0.6, 0.6, 1.0]\n",
    "fisherface = [0.6, 0.6, 0.8, 0.6, 0.6, 0.8 ]\n",
    "lbph = [0.6, 0.8, 0.6, 0.8, 0.6, 1.0]\n",
    "\n",
    "# Plot the accuracy of each model\n",
    "plt.plot(eigenface, label='Eigenface')\n",
    "plt.plot(fisherface, label='Fisherface')\n",
    "plt.plot(lbph, label='LBPH')\n",
    "plt.plot(mat, label='CNN')\n",
    "\n",
    "# Add labels and title\n",
    "plt.xlabel('Per person')\n",
    "plt.ylabel('Accuracy')\n",
    "plt.title('Accuracy of Models')\n",
    "plt.legend()\n",
    "\n",
    "plt.show()"
   ]
  },
  {
   "cell_type": "code",
   "execution_count": null,
   "id": "5ba9d3d0",
   "metadata": {},
   "outputs": [],
   "source": []
  }
 ],
 "metadata": {
  "kernelspec": {
   "display_name": "Python 3 (ipykernel)",
   "language": "python",
   "name": "python3"
  },
  "language_info": {
   "codemirror_mode": {
    "name": "ipython",
    "version": 3
   },
   "file_extension": ".py",
   "mimetype": "text/x-python",
   "name": "python",
   "nbconvert_exporter": "python",
   "pygments_lexer": "ipython3",
   "version": "3.9.7"
  }
 },
 "nbformat": 4,
 "nbformat_minor": 5
}
